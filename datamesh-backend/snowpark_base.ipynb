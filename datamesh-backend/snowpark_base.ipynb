{
 "cells": [
  {
   "cell_type": "markdown",
   "metadata": {},
   "source": [
    "load libraries"
   ]
  },
  {
   "cell_type": "code",
   "execution_count": 1,
   "metadata": {},
   "outputs": [],
   "source": [
    "import os\n",
    "from snowflake.snowpark import Session\n",
    "from snowflake.snowpark.functions import col"
   ]
  },
  {
   "cell_type": "code",
   "execution_count": 7,
   "metadata": {},
   "outputs": [
    {
     "name": "stdout",
     "output_type": "stream",
     "text": [
      "Initiating login request with your identity provider. A browser window should have opened for you to complete the login. If you can't see it, check existing browser windows, or your OS settings. Press CTRL+C to abort and try again...\n"
     ]
    }
   ],
   "source": [
    "dev_connection_parameters = {\n",
    "      \"type\": \"snowflake\",\n",
    "      \"account\": \"twentyfourhourfit.east-us-2.azure\",\n",
    "      \"user\": \"rmendoza@24hourfit.com\",\n",
    "      \"authenticator\": \"externalbrowser\",\n",
    "      \"role\": \"DA_ANALYTICS_RO_NP\",\n",
    "      \"database\": \"DA_QA_LA\",\n",
    "      \"warehouse\": \"BI_WH\",\n",
    "      \"schema\": \"DA_DW\",\n",
    "      \"threads\": \"1\",\n",
    "      \"client_session_keep_alive\": \"False\",\n",
    "      \"query_tag\": \"daily\" \n",
    "}\n",
    "sess = Session.builder.configs(dev_connection_parameters).create()"
   ]
  },
  {
   "cell_type": "markdown",
   "metadata": {},
   "source": [
    "read data from connections  "
   ]
  },
  {
   "cell_type": "code",
   "execution_count": 5,
   "metadata": {},
   "outputs": [
    {
     "name": "stdout",
     "output_type": "stream",
     "text": [
      "[Row(CURRENT_WAREHOUSE()='BI_WH', CURRENT_DATABASE()='DA_QA_LA', CURRENT_SCHEMA()='DA_DW')]\n"
     ]
    }
   ],
   "source": [
    "r = sess.sql(\"select current_warehouse(), current_database(), current_schema()\").collect()\n",
    "print(r)"
   ]
  },
  {
   "cell_type": "markdown",
   "metadata": {},
   "source": [
    "read data from table"
   ]
  }
 ],
 "metadata": {
  "kernelspec": {
   "display_name": "Python 3.10.7 ('venv': venv)",
   "language": "python",
   "name": "python3"
  },
  "language_info": {
   "codemirror_mode": {
    "name": "ipython",
    "version": 3
   },
   "file_extension": ".py",
   "mimetype": "text/x-python",
   "name": "python",
   "nbconvert_exporter": "python",
   "pygments_lexer": "ipython3",
   "version": "3.10.7"
  },
  "orig_nbformat": 4,
  "vscode": {
   "interpreter": {
    "hash": "29f097e08b2d782d3e64e258499cefbe5c6d86cddcf8806e1ed4f3fd60cb72fa"
   }
  }
 },
 "nbformat": 4,
 "nbformat_minor": 2
}
